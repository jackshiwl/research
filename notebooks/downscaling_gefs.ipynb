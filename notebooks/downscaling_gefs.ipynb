{
 "cells": [
  {
   "cell_type": "markdown",
   "metadata": {},
   "source": [
    "This notebook downsamples reanalysis dataset from 8,11 to 96,132\n",
    "\n",
    "Can be used for comparison against WRF"
   ]
  },
  {
   "cell_type": "code",
   "execution_count": 1,
   "metadata": {},
   "outputs": [
    {
     "name": "stderr",
     "output_type": "stream",
     "text": [
      "c:\\Users\\bobby\\anaconda3\\envs\\research\\lib\\site-packages\\scipy\\__init__.py:146: UserWarning: A NumPy version >=1.16.5 and <1.23.0 is required for this version of SciPy (detected version 1.23.1\n",
      "  warnings.warn(f\"A NumPy version >={np_minversion} and <{np_maxversion}\"\n"
     ]
    }
   ],
   "source": [
    "import xarray as xr\n",
    "import pandas as pd\n",
    "import numpy as np\n",
    "import matplotlib.pyplot as plt\n",
    "from sklearn.preprocessing import MinMaxScaler\n",
    "import cartopy.crs as ccrs  # for plotting map\n",
    "import cartopy\n",
    "import matplotlib as mpl\n",
    "import numpy as np\n",
    "import scipy.ndimage\n",
    "\n",
    "import tensorflow as tf\n",
    "from functions import *"
   ]
  },
  {
   "cell_type": "code",
   "execution_count": 2,
   "metadata": {},
   "outputs": [
    {
     "ename": "KeyboardInterrupt",
     "evalue": "",
     "output_type": "error",
     "traceback": [
      "\u001b[1;31m---------------------------------------------------------------------------\u001b[0m",
      "\u001b[1;31mKeyboardInterrupt\u001b[0m                         Traceback (most recent call last)",
      "\u001b[1;32mc:\\Users\\bobby\\Desktop\\.vscode\\research\\notebooks\\downscaling_gefs.ipynb Cell 4\u001b[0m in \u001b[0;36m<cell line: 14>\u001b[1;34m()\u001b[0m\n\u001b[0;32m     <a href='vscode-notebook-cell:/c%3A/Users/bobby/Desktop/.vscode/research/notebooks/downscaling_gefs.ipynb#W2sZmlsZQ%3D%3D?line=11'>12</a>\u001b[0m time \u001b[39m=\u001b[39m np\u001b[39m.\u001b[39marange(np\u001b[39m.\u001b[39mdatetime64(\u001b[39m\"\u001b[39m\u001b[39m2000-01-01T06\u001b[39m\u001b[39m\"\u001b[39m), np\u001b[39m.\u001b[39mdatetime64(\u001b[39m\"\u001b[39m\u001b[39m2020-01-01T00\u001b[39m\u001b[39m\"\u001b[39m), np\u001b[39m.\u001b[39mtimedelta64(\u001b[39m6\u001b[39m, \u001b[39m\"\u001b[39m\u001b[39mh\u001b[39m\u001b[39m\"\u001b[39m))\n\u001b[0;32m     <a href='vscode-notebook-cell:/c%3A/Users/bobby/Desktop/.vscode/research/notebooks/downscaling_gefs.ipynb#W2sZmlsZQ%3D%3D?line=12'>13</a>\u001b[0m \u001b[39m# time = np.arange(np.datetime64(\"2000-01-01T06\"), np.datetime64(\"2004-02-09T06\"), np.timedelta64(6, \"h\"))\u001b[39;00m\n\u001b[1;32m---> <a href='vscode-notebook-cell:/c%3A/Users/bobby/Desktop/.vscode/research/notebooks/downscaling_gefs.ipynb#W2sZmlsZQ%3D%3D?line=13'>14</a>\u001b[0m reforecast_apcp_c00 \u001b[39m=\u001b[39m reforecast_apcp_c00\u001b[39m.\u001b[39;49mresample(time\u001b[39m=\u001b[39;49m\u001b[39m'\u001b[39;49m\u001b[39m6H\u001b[39;49m\u001b[39m'\u001b[39;49m)\u001b[39m.\u001b[39;49masfreq()\n\u001b[0;32m     <a href='vscode-notebook-cell:/c%3A/Users/bobby/Desktop/.vscode/research/notebooks/downscaling_gefs.ipynb#W2sZmlsZQ%3D%3D?line=14'>15</a>\u001b[0m reforecast_apcp_c00\u001b[39m.\u001b[39mtp\u001b[39m.\u001b[39mvalues \u001b[39m=\u001b[39m reforecast_apcp_c00\u001b[39m.\u001b[39mtp\u001b[39m.\u001b[39minterpolate_na(dim\u001b[39m=\u001b[39m\u001b[39m'\u001b[39m\u001b[39mtime\u001b[39m\u001b[39m'\u001b[39m)\n",
      "File \u001b[1;32mc:\\Users\\bobby\\anaconda3\\envs\\research\\lib\\site-packages\\xarray\\core\\resample.py:74\u001b[0m, in \u001b[0;36mResample.asfreq\u001b[1;34m(self)\u001b[0m\n\u001b[0;32m     70\u001b[0m \u001b[39mdef\u001b[39;00m \u001b[39masfreq\u001b[39m(\u001b[39mself\u001b[39m):\n\u001b[0;32m     71\u001b[0m     \u001b[39m\"\"\"Return values of original object at the new up-sampling frequency;\u001b[39;00m\n\u001b[0;32m     72\u001b[0m \u001b[39m    essentially a re-index with new times set to NaN.\u001b[39;00m\n\u001b[0;32m     73\u001b[0m \u001b[39m    \"\"\"\u001b[39;00m\n\u001b[1;32m---> 74\u001b[0m     \u001b[39mreturn\u001b[39;00m \u001b[39mself\u001b[39;49m\u001b[39m.\u001b[39;49m_upsample(\u001b[39m\"\u001b[39;49m\u001b[39masfreq\u001b[39;49m\u001b[39m\"\u001b[39;49m)\n",
      "File \u001b[1;32mc:\\Users\\bobby\\anaconda3\\envs\\research\\lib\\site-packages\\xarray\\core\\resample.py:54\u001b[0m, in \u001b[0;36mResample._upsample\u001b[1;34m(self, method, *args, **kwargs)\u001b[0m\n\u001b[0;32m     51\u001b[0m         \u001b[39mself\u001b[39m\u001b[39m.\u001b[39m_obj \u001b[39m=\u001b[39m \u001b[39mself\u001b[39m\u001b[39m.\u001b[39m_obj\u001b[39m.\u001b[39mdrop_vars(k)\n\u001b[0;32m     53\u001b[0m \u001b[39mif\u001b[39;00m method \u001b[39m==\u001b[39m \u001b[39m\"\u001b[39m\u001b[39masfreq\u001b[39m\u001b[39m\"\u001b[39m:\n\u001b[1;32m---> 54\u001b[0m     \u001b[39mreturn\u001b[39;00m \u001b[39mself\u001b[39;49m\u001b[39m.\u001b[39;49mmean(\u001b[39mself\u001b[39;49m\u001b[39m.\u001b[39;49m_dim)\n\u001b[0;32m     56\u001b[0m \u001b[39melif\u001b[39;00m method \u001b[39min\u001b[39;00m [\u001b[39m\"\u001b[39m\u001b[39mpad\u001b[39m\u001b[39m\"\u001b[39m, \u001b[39m\"\u001b[39m\u001b[39mffill\u001b[39m\u001b[39m\"\u001b[39m, \u001b[39m\"\u001b[39m\u001b[39mbackfill\u001b[39m\u001b[39m\"\u001b[39m, \u001b[39m\"\u001b[39m\u001b[39mbfill\u001b[39m\u001b[39m\"\u001b[39m, \u001b[39m\"\u001b[39m\u001b[39mnearest\u001b[39m\u001b[39m\"\u001b[39m]:\n\u001b[0;32m     57\u001b[0m     kwargs \u001b[39m=\u001b[39m kwargs\u001b[39m.\u001b[39mcopy()\n",
      "File \u001b[1;32mc:\\Users\\bobby\\anaconda3\\envs\\research\\lib\\site-packages\\xarray\\core\\common.py:100\u001b[0m, in \u001b[0;36mImplementsDatasetReduce._reduce_method.<locals>.wrapped_func\u001b[1;34m(self, dim, skipna, **kwargs)\u001b[0m\n\u001b[0;32m     99\u001b[0m \u001b[39mdef\u001b[39;00m \u001b[39mwrapped_func\u001b[39m(\u001b[39mself\u001b[39m, dim\u001b[39m=\u001b[39m\u001b[39mNone\u001b[39;00m, skipna\u001b[39m=\u001b[39m\u001b[39mNone\u001b[39;00m, \u001b[39m*\u001b[39m\u001b[39m*\u001b[39mkwargs):\n\u001b[1;32m--> 100\u001b[0m     \u001b[39mreturn\u001b[39;00m \u001b[39mself\u001b[39m\u001b[39m.\u001b[39mreduce(\n\u001b[0;32m    101\u001b[0m         func, dim, skipna\u001b[39m=\u001b[39mskipna, numeric_only\u001b[39m=\u001b[39mnumeric_only, \u001b[39m*\u001b[39m\u001b[39m*\u001b[39mkwargs\n\u001b[0;32m    102\u001b[0m     )\n",
      "File \u001b[1;32mc:\\Users\\bobby\\anaconda3\\envs\\research\\lib\\site-packages\\xarray\\core\\resample.py:343\u001b[0m, in \u001b[0;36mDatasetResample.reduce\u001b[1;34m(self, func, dim, keep_attrs, **kwargs)\u001b[0m\n\u001b[0;32m    318\u001b[0m \u001b[39mdef\u001b[39;00m \u001b[39mreduce\u001b[39m(\u001b[39mself\u001b[39m, func, dim\u001b[39m=\u001b[39m\u001b[39mNone\u001b[39;00m, keep_attrs\u001b[39m=\u001b[39m\u001b[39mNone\u001b[39;00m, \u001b[39m*\u001b[39m\u001b[39m*\u001b[39mkwargs):\n\u001b[0;32m    319\u001b[0m     \u001b[39m\"\"\"Reduce the items in this group by applying `func` along the\u001b[39;00m\n\u001b[0;32m    320\u001b[0m \u001b[39m    pre-defined resampling dimension.\u001b[39;00m\n\u001b[0;32m    321\u001b[0m \n\u001b[1;32m   (...)\u001b[0m\n\u001b[0;32m    341\u001b[0m \u001b[39m        removed.\u001b[39;00m\n\u001b[0;32m    342\u001b[0m \u001b[39m    \"\"\"\u001b[39;00m\n\u001b[1;32m--> 343\u001b[0m     \u001b[39mreturn\u001b[39;00m \u001b[39msuper\u001b[39m()\u001b[39m.\u001b[39mreduce(func, dim, keep_attrs, \u001b[39m*\u001b[39m\u001b[39m*\u001b[39mkwargs)\n",
      "File \u001b[1;32mc:\\Users\\bobby\\anaconda3\\envs\\research\\lib\\site-packages\\xarray\\core\\groupby.py:987\u001b[0m, in \u001b[0;36mDatasetGroupBy.reduce\u001b[1;34m(self, func, dim, keep_attrs, **kwargs)\u001b[0m\n\u001b[0;32m    983\u001b[0m     \u001b[39mreturn\u001b[39;00m ds\u001b[39m.\u001b[39mreduce(func, dim, keep_attrs, \u001b[39m*\u001b[39m\u001b[39m*\u001b[39mkwargs)\n\u001b[0;32m    985\u001b[0m check_reduce_dims(dim, \u001b[39mself\u001b[39m\u001b[39m.\u001b[39mdims)\n\u001b[1;32m--> 987\u001b[0m \u001b[39mreturn\u001b[39;00m \u001b[39mself\u001b[39;49m\u001b[39m.\u001b[39;49mmap(reduce_dataset)\n",
      "File \u001b[1;32mc:\\Users\\bobby\\anaconda3\\envs\\research\\lib\\site-packages\\xarray\\core\\resample.py:298\u001b[0m, in \u001b[0;36mDatasetResample.map\u001b[1;34m(self, func, args, shortcut, **kwargs)\u001b[0m\n\u001b[0;32m    296\u001b[0m \u001b[39m# ignore shortcut if set (for now)\u001b[39;00m\n\u001b[0;32m    297\u001b[0m applied \u001b[39m=\u001b[39m (func(ds, \u001b[39m*\u001b[39margs, \u001b[39m*\u001b[39m\u001b[39m*\u001b[39mkwargs) \u001b[39mfor\u001b[39;00m ds \u001b[39min\u001b[39;00m \u001b[39mself\u001b[39m\u001b[39m.\u001b[39m_iter_grouped())\n\u001b[1;32m--> 298\u001b[0m combined \u001b[39m=\u001b[39m \u001b[39mself\u001b[39;49m\u001b[39m.\u001b[39;49m_combine(applied)\n\u001b[0;32m    300\u001b[0m \u001b[39mreturn\u001b[39;00m combined\u001b[39m.\u001b[39mrename({\u001b[39mself\u001b[39m\u001b[39m.\u001b[39m_resample_dim: \u001b[39mself\u001b[39m\u001b[39m.\u001b[39m_dim})\n",
      "File \u001b[1;32mc:\\Users\\bobby\\anaconda3\\envs\\research\\lib\\site-packages\\xarray\\core\\groupby.py:938\u001b[0m, in \u001b[0;36mDatasetGroupBy._combine\u001b[1;34m(self, applied)\u001b[0m\n\u001b[0;32m    936\u001b[0m applied_example, applied \u001b[39m=\u001b[39m peek_at(applied)\n\u001b[0;32m    937\u001b[0m coord, dim, positions \u001b[39m=\u001b[39m \u001b[39mself\u001b[39m\u001b[39m.\u001b[39m_infer_concat_args(applied_example)\n\u001b[1;32m--> 938\u001b[0m combined \u001b[39m=\u001b[39m concat(applied, dim)\n\u001b[0;32m    939\u001b[0m combined \u001b[39m=\u001b[39m _maybe_reorder(combined, dim, positions)\n\u001b[0;32m    940\u001b[0m \u001b[39m# assign coord when the applied function does not return that coord\u001b[39;00m\n",
      "File \u001b[1;32mc:\\Users\\bobby\\anaconda3\\envs\\research\\lib\\site-packages\\xarray\\core\\concat.py:242\u001b[0m, in \u001b[0;36mconcat\u001b[1;34m(objs, dim, data_vars, coords, compat, positions, fill_value, join, combine_attrs)\u001b[0m\n\u001b[0;32m    237\u001b[0m \u001b[39melse\u001b[39;00m:\n\u001b[0;32m    238\u001b[0m     \u001b[39mraise\u001b[39;00m \u001b[39mTypeError\u001b[39;00m(\n\u001b[0;32m    239\u001b[0m         \u001b[39m\"\u001b[39m\u001b[39mcan only concatenate xarray Dataset and DataArray \u001b[39m\u001b[39m\"\u001b[39m\n\u001b[0;32m    240\u001b[0m         \u001b[39mf\u001b[39m\u001b[39m\"\u001b[39m\u001b[39mobjects, got \u001b[39m\u001b[39m{\u001b[39;00m\u001b[39mtype\u001b[39m(first_obj)\u001b[39m}\u001b[39;00m\u001b[39m\"\u001b[39m\n\u001b[0;32m    241\u001b[0m     )\n\u001b[1;32m--> 242\u001b[0m \u001b[39mreturn\u001b[39;00m f(\n\u001b[0;32m    243\u001b[0m     objs, dim, data_vars, coords, compat, positions, fill_value, join, combine_attrs\n\u001b[0;32m    244\u001b[0m )\n",
      "File \u001b[1;32mc:\\Users\\bobby\\anaconda3\\envs\\research\\lib\\site-packages\\xarray\\core\\concat.py:431\u001b[0m, in \u001b[0;36m_dataset_concat\u001b[1;34m(datasets, dim, data_vars, coords, compat, positions, fill_value, join, combine_attrs)\u001b[0m\n\u001b[0;32m    426\u001b[0m \u001b[39m\"\"\"\u001b[39;00m\n\u001b[0;32m    427\u001b[0m \u001b[39mConcatenate a sequence of datasets along a new or existing dimension\u001b[39;00m\n\u001b[0;32m    428\u001b[0m \u001b[39m\"\"\"\u001b[39;00m\n\u001b[0;32m    429\u001b[0m \u001b[39mfrom\u001b[39;00m \u001b[39m.\u001b[39;00m\u001b[39mdataset\u001b[39;00m \u001b[39mimport\u001b[39;00m Dataset\n\u001b[1;32m--> 431\u001b[0m datasets \u001b[39m=\u001b[39m \u001b[39mlist\u001b[39;49m(datasets)\n\u001b[0;32m    433\u001b[0m \u001b[39mif\u001b[39;00m \u001b[39mnot\u001b[39;00m \u001b[39mall\u001b[39m(\u001b[39misinstance\u001b[39m(dataset, Dataset) \u001b[39mfor\u001b[39;00m dataset \u001b[39min\u001b[39;00m datasets):\n\u001b[0;32m    434\u001b[0m     \u001b[39mraise\u001b[39;00m \u001b[39mTypeError\u001b[39;00m(\n\u001b[0;32m    435\u001b[0m         \u001b[39m\"\u001b[39m\u001b[39mThe elements in the input list need to be either all \u001b[39m\u001b[39m'\u001b[39m\u001b[39mDataset\u001b[39m\u001b[39m'\u001b[39m\u001b[39ms or all \u001b[39m\u001b[39m'\u001b[39m\u001b[39mDataArray\u001b[39m\u001b[39m'\u001b[39m\u001b[39ms\u001b[39m\u001b[39m\"\u001b[39m\n\u001b[0;32m    436\u001b[0m     )\n",
      "File \u001b[1;32mc:\\Users\\bobby\\anaconda3\\envs\\research\\lib\\site-packages\\xarray\\core\\resample.py:297\u001b[0m, in \u001b[0;36m<genexpr>\u001b[1;34m(.0)\u001b[0m\n\u001b[0;32m    267\u001b[0m \u001b[39m\"\"\"Apply a function over each Dataset in the groups generated for\u001b[39;00m\n\u001b[0;32m    268\u001b[0m \u001b[39mresampling and concatenate them together into a new Dataset.\u001b[39;00m\n\u001b[0;32m    269\u001b[0m \n\u001b[1;32m   (...)\u001b[0m\n\u001b[0;32m    294\u001b[0m \u001b[39m    The result of splitting, applying and combining this dataset.\u001b[39;00m\n\u001b[0;32m    295\u001b[0m \u001b[39m\"\"\"\u001b[39;00m\n\u001b[0;32m    296\u001b[0m \u001b[39m# ignore shortcut if set (for now)\u001b[39;00m\n\u001b[1;32m--> 297\u001b[0m applied \u001b[39m=\u001b[39m (func(ds, \u001b[39m*\u001b[39margs, \u001b[39m*\u001b[39m\u001b[39m*\u001b[39mkwargs) \u001b[39mfor\u001b[39;00m ds \u001b[39min\u001b[39;00m \u001b[39mself\u001b[39m\u001b[39m.\u001b[39m_iter_grouped())\n\u001b[0;32m    298\u001b[0m combined \u001b[39m=\u001b[39m \u001b[39mself\u001b[39m\u001b[39m.\u001b[39m_combine(applied)\n\u001b[0;32m    300\u001b[0m \u001b[39mreturn\u001b[39;00m combined\u001b[39m.\u001b[39mrename({\u001b[39mself\u001b[39m\u001b[39m.\u001b[39m_resample_dim: \u001b[39mself\u001b[39m\u001b[39m.\u001b[39m_dim})\n",
      "File \u001b[1;32mc:\\Users\\bobby\\anaconda3\\envs\\research\\lib\\site-packages\\xarray\\core\\groupby.py:983\u001b[0m, in \u001b[0;36mDatasetGroupBy.reduce.<locals>.reduce_dataset\u001b[1;34m(ds)\u001b[0m\n\u001b[0;32m    982\u001b[0m \u001b[39mdef\u001b[39;00m \u001b[39mreduce_dataset\u001b[39m(ds):\n\u001b[1;32m--> 983\u001b[0m     \u001b[39mreturn\u001b[39;00m ds\u001b[39m.\u001b[39mreduce(func, dim, keep_attrs, \u001b[39m*\u001b[39m\u001b[39m*\u001b[39mkwargs)\n",
      "File \u001b[1;32mc:\\Users\\bobby\\anaconda3\\envs\\research\\lib\\site-packages\\xarray\\core\\dataset.py:5083\u001b[0m, in \u001b[0;36mDataset.reduce\u001b[1;34m(self, func, dim, keep_attrs, keepdims, numeric_only, **kwargs)\u001b[0m\n\u001b[0;32m   5078\u001b[0m             \u001b[39melif\u001b[39;00m \u001b[39mlen\u001b[39m(reduce_dims) \u001b[39m==\u001b[39m var\u001b[39m.\u001b[39mndim:\n\u001b[0;32m   5079\u001b[0m                 \u001b[39m# prefer to aggregate over axis=None rather than\u001b[39;00m\n\u001b[0;32m   5080\u001b[0m                 \u001b[39m# axis=(0, 1) if they will be equivalent, because\u001b[39;00m\n\u001b[0;32m   5081\u001b[0m                 \u001b[39m# the former is often more efficient\u001b[39;00m\n\u001b[0;32m   5082\u001b[0m                 reduce_dims \u001b[39m=\u001b[39m \u001b[39mNone\u001b[39;00m  \u001b[39m# type: ignore[assignment]\u001b[39;00m\n\u001b[1;32m-> 5083\u001b[0m             variables[name] \u001b[39m=\u001b[39m var\u001b[39m.\u001b[39mreduce(\n\u001b[0;32m   5084\u001b[0m                 func,\n\u001b[0;32m   5085\u001b[0m                 dim\u001b[39m=\u001b[39mreduce_dims,\n\u001b[0;32m   5086\u001b[0m                 keep_attrs\u001b[39m=\u001b[39mkeep_attrs,\n\u001b[0;32m   5087\u001b[0m                 keepdims\u001b[39m=\u001b[39mkeepdims,\n\u001b[0;32m   5088\u001b[0m                 \u001b[39m*\u001b[39m\u001b[39m*\u001b[39mkwargs,\n\u001b[0;32m   5089\u001b[0m             )\n\u001b[0;32m   5091\u001b[0m coord_names \u001b[39m=\u001b[39m {k \u001b[39mfor\u001b[39;00m k \u001b[39min\u001b[39;00m \u001b[39mself\u001b[39m\u001b[39m.\u001b[39mcoords \u001b[39mif\u001b[39;00m k \u001b[39min\u001b[39;00m variables}\n\u001b[0;32m   5092\u001b[0m indexes \u001b[39m=\u001b[39m {k: v \u001b[39mfor\u001b[39;00m k, v \u001b[39min\u001b[39;00m \u001b[39mself\u001b[39m\u001b[39m.\u001b[39mxindexes\u001b[39m.\u001b[39mitems() \u001b[39mif\u001b[39;00m k \u001b[39min\u001b[39;00m variables}\n",
      "File \u001b[1;32mc:\\Users\\bobby\\anaconda3\\envs\\research\\lib\\site-packages\\xarray\\core\\variable.py:1789\u001b[0m, in \u001b[0;36mVariable.reduce\u001b[1;34m(self, func, dim, axis, keep_attrs, keepdims, **kwargs)\u001b[0m\n\u001b[0;32m   1785\u001b[0m warnings\u001b[39m.\u001b[39mfilterwarnings(\n\u001b[0;32m   1786\u001b[0m     \u001b[39m\"\u001b[39m\u001b[39mignore\u001b[39m\u001b[39m\"\u001b[39m, \u001b[39mr\u001b[39m\u001b[39m\"\u001b[39m\u001b[39mMean of empty slice\u001b[39m\u001b[39m\"\u001b[39m, category\u001b[39m=\u001b[39m\u001b[39mRuntimeWarning\u001b[39;00m\n\u001b[0;32m   1787\u001b[0m )\n\u001b[0;32m   1788\u001b[0m \u001b[39mif\u001b[39;00m axis \u001b[39mis\u001b[39;00m \u001b[39mnot\u001b[39;00m \u001b[39mNone\u001b[39;00m:\n\u001b[1;32m-> 1789\u001b[0m     data \u001b[39m=\u001b[39m func(\u001b[39mself\u001b[39;49m\u001b[39m.\u001b[39;49mdata, axis\u001b[39m=\u001b[39maxis, \u001b[39m*\u001b[39m\u001b[39m*\u001b[39mkwargs)\n\u001b[0;32m   1790\u001b[0m \u001b[39melse\u001b[39;00m:\n\u001b[0;32m   1791\u001b[0m     data \u001b[39m=\u001b[39m func(\u001b[39mself\u001b[39m\u001b[39m.\u001b[39mdata, \u001b[39m*\u001b[39m\u001b[39m*\u001b[39mkwargs)\n",
      "File \u001b[1;32mc:\\Users\\bobby\\anaconda3\\envs\\research\\lib\\site-packages\\xarray\\core\\variable.py:346\u001b[0m, in \u001b[0;36mVariable.data\u001b[1;34m(self)\u001b[0m\n\u001b[0;32m    344\u001b[0m     \u001b[39mreturn\u001b[39;00m \u001b[39mself\u001b[39m\u001b[39m.\u001b[39m_data\n\u001b[0;32m    345\u001b[0m \u001b[39melse\u001b[39;00m:\n\u001b[1;32m--> 346\u001b[0m     \u001b[39mreturn\u001b[39;00m \u001b[39mself\u001b[39;49m\u001b[39m.\u001b[39;49mvalues\n",
      "File \u001b[1;32mc:\\Users\\bobby\\anaconda3\\envs\\research\\lib\\site-packages\\xarray\\core\\variable.py:519\u001b[0m, in \u001b[0;36mVariable.values\u001b[1;34m(self)\u001b[0m\n\u001b[0;32m    516\u001b[0m \u001b[39m@property\u001b[39m\n\u001b[0;32m    517\u001b[0m \u001b[39mdef\u001b[39;00m \u001b[39mvalues\u001b[39m(\u001b[39mself\u001b[39m):\n\u001b[0;32m    518\u001b[0m     \u001b[39m\"\"\"The variable's data as a numpy.ndarray\"\"\"\u001b[39;00m\n\u001b[1;32m--> 519\u001b[0m     \u001b[39mreturn\u001b[39;00m _as_array_or_item(\u001b[39mself\u001b[39;49m\u001b[39m.\u001b[39;49m_data)\n",
      "File \u001b[1;32mc:\\Users\\bobby\\anaconda3\\envs\\research\\lib\\site-packages\\xarray\\core\\variable.py:259\u001b[0m, in \u001b[0;36m_as_array_or_item\u001b[1;34m(data)\u001b[0m\n\u001b[0;32m    245\u001b[0m \u001b[39mdef\u001b[39;00m \u001b[39m_as_array_or_item\u001b[39m(data):\n\u001b[0;32m    246\u001b[0m     \u001b[39m\"\"\"Return the given values as a numpy array, or as an individual item if\u001b[39;00m\n\u001b[0;32m    247\u001b[0m \u001b[39m    it's a 0d datetime64 or timedelta64 array.\u001b[39;00m\n\u001b[0;32m    248\u001b[0m \n\u001b[1;32m   (...)\u001b[0m\n\u001b[0;32m    257\u001b[0m \u001b[39m    TODO: remove this (replace with np.asarray) once these issues are fixed\u001b[39;00m\n\u001b[0;32m    258\u001b[0m \u001b[39m    \"\"\"\u001b[39;00m\n\u001b[1;32m--> 259\u001b[0m     data \u001b[39m=\u001b[39m np\u001b[39m.\u001b[39;49masarray(data)\n\u001b[0;32m    260\u001b[0m     \u001b[39mif\u001b[39;00m data\u001b[39m.\u001b[39mndim \u001b[39m==\u001b[39m \u001b[39m0\u001b[39m:\n\u001b[0;32m    261\u001b[0m         \u001b[39mif\u001b[39;00m data\u001b[39m.\u001b[39mdtype\u001b[39m.\u001b[39mkind \u001b[39m==\u001b[39m \u001b[39m\"\u001b[39m\u001b[39mM\u001b[39m\u001b[39m\"\u001b[39m:\n",
      "File \u001b[1;32mc:\\Users\\bobby\\anaconda3\\envs\\research\\lib\\site-packages\\xarray\\core\\indexing.py:551\u001b[0m, in \u001b[0;36mMemoryCachedArray.__array__\u001b[1;34m(self, dtype)\u001b[0m\n\u001b[0;32m    550\u001b[0m \u001b[39mdef\u001b[39;00m \u001b[39m__array__\u001b[39m(\u001b[39mself\u001b[39m, dtype\u001b[39m=\u001b[39m\u001b[39mNone\u001b[39;00m):\n\u001b[1;32m--> 551\u001b[0m     \u001b[39mself\u001b[39;49m\u001b[39m.\u001b[39;49m_ensure_cached()\n\u001b[0;32m    552\u001b[0m     \u001b[39mreturn\u001b[39;00m np\u001b[39m.\u001b[39masarray(\u001b[39mself\u001b[39m\u001b[39m.\u001b[39marray, dtype\u001b[39m=\u001b[39mdtype)\n",
      "File \u001b[1;32mc:\\Users\\bobby\\anaconda3\\envs\\research\\lib\\site-packages\\xarray\\core\\indexing.py:548\u001b[0m, in \u001b[0;36mMemoryCachedArray._ensure_cached\u001b[1;34m(self)\u001b[0m\n\u001b[0;32m    546\u001b[0m \u001b[39mdef\u001b[39;00m \u001b[39m_ensure_cached\u001b[39m(\u001b[39mself\u001b[39m):\n\u001b[0;32m    547\u001b[0m     \u001b[39mif\u001b[39;00m \u001b[39mnot\u001b[39;00m \u001b[39misinstance\u001b[39m(\u001b[39mself\u001b[39m\u001b[39m.\u001b[39marray, NumpyIndexingAdapter):\n\u001b[1;32m--> 548\u001b[0m         \u001b[39mself\u001b[39m\u001b[39m.\u001b[39marray \u001b[39m=\u001b[39m NumpyIndexingAdapter(np\u001b[39m.\u001b[39;49masarray(\u001b[39mself\u001b[39;49m\u001b[39m.\u001b[39;49marray))\n",
      "File \u001b[1;32mc:\\Users\\bobby\\anaconda3\\envs\\research\\lib\\site-packages\\xarray\\core\\indexing.py:521\u001b[0m, in \u001b[0;36mCopyOnWriteArray.__array__\u001b[1;34m(self, dtype)\u001b[0m\n\u001b[0;32m    520\u001b[0m \u001b[39mdef\u001b[39;00m \u001b[39m__array__\u001b[39m(\u001b[39mself\u001b[39m, dtype\u001b[39m=\u001b[39m\u001b[39mNone\u001b[39;00m):\n\u001b[1;32m--> 521\u001b[0m     \u001b[39mreturn\u001b[39;00m np\u001b[39m.\u001b[39;49masarray(\u001b[39mself\u001b[39;49m\u001b[39m.\u001b[39;49marray, dtype\u001b[39m=\u001b[39;49mdtype)\n",
      "File \u001b[1;32mc:\\Users\\bobby\\anaconda3\\envs\\research\\lib\\site-packages\\xarray\\core\\indexing.py:422\u001b[0m, in \u001b[0;36mLazilyIndexedArray.__array__\u001b[1;34m(self, dtype)\u001b[0m\n\u001b[0;32m    420\u001b[0m \u001b[39mdef\u001b[39;00m \u001b[39m__array__\u001b[39m(\u001b[39mself\u001b[39m, dtype\u001b[39m=\u001b[39m\u001b[39mNone\u001b[39;00m):\n\u001b[0;32m    421\u001b[0m     array \u001b[39m=\u001b[39m as_indexable(\u001b[39mself\u001b[39m\u001b[39m.\u001b[39marray)\n\u001b[1;32m--> 422\u001b[0m     \u001b[39mreturn\u001b[39;00m np\u001b[39m.\u001b[39masarray(array[\u001b[39mself\u001b[39;49m\u001b[39m.\u001b[39;49mkey], dtype\u001b[39m=\u001b[39m\u001b[39mNone\u001b[39;00m)\n",
      "File \u001b[1;32mc:\\Users\\bobby\\anaconda3\\envs\\research\\lib\\site-packages\\xarray\\backends\\netCDF4_.py:90\u001b[0m, in \u001b[0;36mNetCDF4ArrayWrapper.__getitem__\u001b[1;34m(self, key)\u001b[0m\n\u001b[0;32m     89\u001b[0m \u001b[39mdef\u001b[39;00m \u001b[39m__getitem__\u001b[39m(\u001b[39mself\u001b[39m, key):\n\u001b[1;32m---> 90\u001b[0m     \u001b[39mreturn\u001b[39;00m indexing\u001b[39m.\u001b[39;49mexplicit_indexing_adapter(\n\u001b[0;32m     91\u001b[0m         key, \u001b[39mself\u001b[39;49m\u001b[39m.\u001b[39;49mshape, indexing\u001b[39m.\u001b[39;49mIndexingSupport\u001b[39m.\u001b[39;49mOUTER, \u001b[39mself\u001b[39;49m\u001b[39m.\u001b[39;49m_getitem\n\u001b[0;32m     92\u001b[0m     )\n",
      "File \u001b[1;32mc:\\Users\\bobby\\anaconda3\\envs\\research\\lib\\site-packages\\xarray\\core\\indexing.py:711\u001b[0m, in \u001b[0;36mexplicit_indexing_adapter\u001b[1;34m(key, shape, indexing_support, raw_indexing_method)\u001b[0m\n\u001b[0;32m    689\u001b[0m \u001b[39m\"\"\"Support explicit indexing by delegating to a raw indexing method.\u001b[39;00m\n\u001b[0;32m    690\u001b[0m \n\u001b[0;32m    691\u001b[0m \u001b[39mOuter and/or vectorized indexers are supported by indexing a second time\u001b[39;00m\n\u001b[1;32m   (...)\u001b[0m\n\u001b[0;32m    708\u001b[0m \u001b[39mIndexing result, in the form of a duck numpy-array.\u001b[39;00m\n\u001b[0;32m    709\u001b[0m \u001b[39m\"\"\"\u001b[39;00m\n\u001b[0;32m    710\u001b[0m raw_key, numpy_indices \u001b[39m=\u001b[39m decompose_indexer(key, shape, indexing_support)\n\u001b[1;32m--> 711\u001b[0m result \u001b[39m=\u001b[39m raw_indexing_method(raw_key\u001b[39m.\u001b[39;49mtuple)\n\u001b[0;32m    712\u001b[0m \u001b[39mif\u001b[39;00m numpy_indices\u001b[39m.\u001b[39mtuple:\n\u001b[0;32m    713\u001b[0m     \u001b[39m# index the loaded np.ndarray\u001b[39;00m\n\u001b[0;32m    714\u001b[0m     result \u001b[39m=\u001b[39m NumpyIndexingAdapter(np\u001b[39m.\u001b[39masarray(result))[numpy_indices]\n",
      "File \u001b[1;32mc:\\Users\\bobby\\anaconda3\\envs\\research\\lib\\site-packages\\xarray\\backends\\netCDF4_.py:103\u001b[0m, in \u001b[0;36mNetCDF4ArrayWrapper._getitem\u001b[1;34m(self, key)\u001b[0m\n\u001b[0;32m    101\u001b[0m     \u001b[39mwith\u001b[39;00m \u001b[39mself\u001b[39m\u001b[39m.\u001b[39mdatastore\u001b[39m.\u001b[39mlock:\n\u001b[0;32m    102\u001b[0m         original_array \u001b[39m=\u001b[39m \u001b[39mself\u001b[39m\u001b[39m.\u001b[39mget_array(needs_lock\u001b[39m=\u001b[39m\u001b[39mFalse\u001b[39;00m)\n\u001b[1;32m--> 103\u001b[0m         array \u001b[39m=\u001b[39m getitem(original_array, key)\n\u001b[0;32m    104\u001b[0m \u001b[39mexcept\u001b[39;00m \u001b[39mIndexError\u001b[39;00m:\n\u001b[0;32m    105\u001b[0m     \u001b[39m# Catch IndexError in netCDF4 and return a more informative\u001b[39;00m\n\u001b[0;32m    106\u001b[0m     \u001b[39m# error message.  This is most often called when an unsorted\u001b[39;00m\n\u001b[0;32m    107\u001b[0m     \u001b[39m# indexer is used before the data is loaded from disk.\u001b[39;00m\n\u001b[0;32m    108\u001b[0m     msg \u001b[39m=\u001b[39m (\n\u001b[0;32m    109\u001b[0m         \u001b[39m\"\u001b[39m\u001b[39mThe indexing operation you are attempting to perform \u001b[39m\u001b[39m\"\u001b[39m\n\u001b[0;32m    110\u001b[0m         \u001b[39m\"\u001b[39m\u001b[39mis not valid on netCDF4.Variable object. Try loading \u001b[39m\u001b[39m\"\u001b[39m\n\u001b[0;32m    111\u001b[0m         \u001b[39m\"\u001b[39m\u001b[39myour data into memory first by calling .load().\u001b[39m\u001b[39m\"\u001b[39m\n\u001b[0;32m    112\u001b[0m     )\n",
      "File \u001b[1;32msrc\\netCDF4\\_netCDF4.pyx:4382\u001b[0m, in \u001b[0;36mnetCDF4._netCDF4.Variable.__getitem__\u001b[1;34m()\u001b[0m\n",
      "File \u001b[1;32msrc\\netCDF4\\_netCDF4.pyx:4072\u001b[0m, in \u001b[0;36mnetCDF4._netCDF4.Variable.shape.__get__\u001b[1;34m()\u001b[0m\n",
      "File \u001b[1;32mc:\\Users\\bobby\\anaconda3\\envs\\research\\lib\\site-packages\\netCDF4\\utils.py:34\u001b[0m, in \u001b[0;36m_find_dim\u001b[1;34m(grp, dimname)\u001b[0m\n\u001b[0;32m     30\u001b[0m \u001b[39mdef\u001b[39;00m \u001b[39m_sortbylist\u001b[39m(A,B):\n\u001b[0;32m     31\u001b[0m     \u001b[39m# sort one list (A) using the values from another list (B)\u001b[39;00m\n\u001b[0;32m     32\u001b[0m     \u001b[39mreturn\u001b[39;00m [A[i] \u001b[39mfor\u001b[39;00m i \u001b[39min\u001b[39;00m \u001b[39msorted\u001b[39m(\u001b[39mrange\u001b[39m(\u001b[39mlen\u001b[39m(A)), key\u001b[39m=\u001b[39mB\u001b[39m.\u001b[39m\u001b[39m__getitem__\u001b[39m)]\n\u001b[1;32m---> 34\u001b[0m \u001b[39mdef\u001b[39;00m \u001b[39m_find_dim\u001b[39m(grp, dimname):\n\u001b[0;32m     35\u001b[0m     \u001b[39m# find Dimension instance given group and name.\u001b[39;00m\n\u001b[0;32m     36\u001b[0m     \u001b[39m# look in current group, and parents.\u001b[39;00m\n\u001b[0;32m     37\u001b[0m     group \u001b[39m=\u001b[39m grp\n\u001b[0;32m     38\u001b[0m     dim \u001b[39m=\u001b[39m \u001b[39mNone\u001b[39;00m\n",
      "\u001b[1;31mKeyboardInterrupt\u001b[0m: "
     ]
    }
   ],
   "source": [
    "# raeding reanalysis and WRF data\n",
    "gefsdir = 'C:\\\\Users\\\\bobby\\\\Desktop\\\\.vscode\\\\1 UROP Research\\\\UROP v2\\\\raw_preprocessing\\\\GEFS\\\\'\n",
    "reanalysis = xr.open_dataset(gefsdir+'GEFSv12-Reanalysis_tp_2000_2019.nc').sel(lon=slice('102.5', '105.00'), lat=('2.5','2.25','2','1.75','1.5','1.25','1','0.75'))\n",
    "reforecast_apcp_c00 = xr.open_dataset(gefsdir+'GEFSv12-Reforecast_apcp_c00.nc').sel(longitude=slice('102.5', '105.00'), latitude=('2.5','2.25','2','1.75','1.5','1.25','1','0.75'))\n",
    "wrfdir = 'C:\\\\Users\\\\bobby\\\\Desktop\\\\.vscode\\\\1 UROP Research\\\\UROP v2\\\\raw_preprocessing\\\\WRF\\\\'\n",
    "wrf = xr.open_dataset(wrfdir+'d02WRF_tp_2000_2019.nc').isel(south_north=slice(10,106), west_east=slice(18,150))\n",
    "reanalysis = reanalysis.isel(time=slice(1, None)) \n",
    "del reanalysis.attrs['history'] # remove long history text\n",
    "lon = reanalysis.lon.values\n",
    "lat = reanalysis.lat.values\n",
    "# time = np.arange(np.datetime64(\"2016-12-31T18\"), np.datetime64(\"2020-01-01T00\"), np.timedelta64(6, \"h\"))\n",
    "time = np.arange(np.datetime64(\"2000-01-01T06\"), np.datetime64(\"2020-01-01T00\"), np.timedelta64(6, \"h\"))\n",
    "# time = np.arange(np.datetime64(\"2000-01-01T06\"), np.datetime64(\"2004-02-09T06\"), np.timedelta64(6, \"h\"))\n",
    "reforecast_apcp_c00 = reforecast_apcp_c00.resample(time='6H').asfreq()\n",
    "reforecast_apcp_c00.tp.values = reforecast_apcp_c00.tp.interpolate_na(dim='time')"
   ]
  },
  {
   "cell_type": "code",
   "execution_count": 25,
   "metadata": {},
   "outputs": [],
   "source": [
    "# IF REQUIRED TO TAKE SAMPLE\n",
    "\n",
    "# wrf = wrf.isel(Time=slice(0,6000))\n",
    "# reanalysis = reanalysis.isel(time=slice(0,6000))\n",
    "# reforecast_apcp_c00 = reforecast_apcp_c00.isel(time=slice(0,6000))"
   ]
  },
  {
   "cell_type": "code",
   "execution_count": 26,
   "metadata": {},
   "outputs": [],
   "source": [
    "# bilinear interpolation for lat/lon\n",
    "bilinear_lon = scipy.ndimage.zoom(lon, 12, order=1)\n",
    "bilinear_lat = scipy.ndimage.zoom(lat, 12, order=1)\n",
    "row_meshgrid, col_meshgrid = np.meshgrid(bilinear_lat, bilinear_lon, indexing='ij')\n",
    "\n",
    "# bilinear interpolation for the reanalysis values\n",
    "x = reanalysis.tp.values\n",
    "x.shape\n",
    "bilinear_gefs = scipy.ndimage.zoom(x, (1,12,12), order=1)\n",
    "\n",
    "downscaled_reanalysis = xr.Dataset(\n",
    "                data_vars=dict(\n",
    "                    tp=([\"time\", \"lon\",\"lat\"], bilinear_gefs, {\"units\":\"kgm**-2\"})\n",
    "                ),\n",
    "                coords=dict(\n",
    "                    time=([\"time\"], time),\n",
    "                    xlon=([\"lon\",\"lat\"], col_meshgrid),\n",
    "                    xlat=([\"lon\",\"lat\"], row_meshgrid),\n",
    "                ),\n",
    "                attrs=dict(description=\"coords with matrices\"),\n",
    "            )\n",
    "\n",
    "downscaled_reanalysis = downscaled_reanalysis.swap_dims({\"lon\":\"lat\", \"lat\":\"lon\"})"
   ]
  },
  {
   "cell_type": "code",
   "execution_count": 27,
   "metadata": {},
   "outputs": [],
   "source": [
    "def make_FSS_loss(mask_size):  # choose any mask size for calculating densities\n",
    "\n",
    "    def my_FSS_loss(y_true, y_pred):\n",
    "\n",
    "        # First: DISCRETIZE y_true and y_pred to have only binary values 0/1 \n",
    "        # (or close to those for soft discretization)\n",
    "        want_hard_discretization = True\n",
    "\n",
    "        # This example assumes that y_true, y_pred have the shape (None, N, N, 1).\n",
    "        \n",
    "        cutoff = 0.6  # choose the cut off value for discretization   # 0.6 cutoff means 0.6mm/6h above will be considered as rainfall present\n",
    "\n",
    "        if (want_hard_discretization):\n",
    "           # Hard discretization:\n",
    "           # can use that in metric, but not in loss\n",
    "           y_true_binary = tf.where(y_true>cutoff, 1.0, 0.0)\n",
    "           y_pred_binary = tf.where(y_pred>cutoff, 1.0, 0.0)\n",
    "\n",
    "        else:\n",
    "           # Soft discretization\n",
    "           c = 10 # make sigmoid function steep\n",
    "           y_true_binary = tf.math.sigmoid( c * ( y_true - cutoff ))\n",
    "           y_pred_binary = tf.math.sigmoid( c * ( y_pred - cutoff ))\n",
    "\n",
    "        # Done with discretization.\n",
    "\n",
    "        # To calculate densities: apply average pooling to y_true.\n",
    "        # Result is O(mask_size)(i,j) in Eq. (2) of [RL08].\n",
    "        # Since we use AveragePooling, this automatically includes the factor 1/n^2 in Eq. (2).\n",
    "        pool1 = tf.keras.layers.AveragePooling2D(pool_size=(mask_size, mask_size), strides=(1, 1), \n",
    "           padding='valid')\n",
    "        y_true_density = pool1(y_true_binary);\n",
    "        # Need to know for normalization later how many pixels there are after pooling\n",
    "        n_density_pixels = tf.cast( (tf.shape(y_true_density)[1] * tf.shape(y_true_density)[2]) , \n",
    "           tf.float32 )\n",
    "\n",
    "        # To calculate densities: apply average pooling to y_pred.\n",
    "        # Result is M(mask_size)(i,j) in Eq. (3) of [RL08].\n",
    "        # Since we use AveragePooling, this automatically includes the factor 1/n^2 in Eq. (3).\n",
    "        pool2 = tf.keras.layers.AveragePooling2D(pool_size=(mask_size, mask_size),\n",
    "                                                 strides=(1, 1), padding='valid')\n",
    "        y_pred_density = pool2(y_pred_binary);\n",
    "\n",
    "        # This calculates MSE(n) in Eq. (5) of [RL08].\n",
    "        # Since we use MSE function, this automatically includes the factor 1/(Nx*Ny) in Eq. (5).\n",
    "        MSE_n = tf.keras.losses.MeanSquaredError()(y_true_density, y_pred_density)\n",
    "\n",
    "        # To calculate MSE_n_ref in Eq. (7) of [RL08] efficiently:\n",
    "        # multiply each image with itself to get square terms, then sum up those terms.\n",
    "\n",
    "        # Part 1 - calculate sum( O(n)i,j^2\n",
    "        # Take y_true_densities as image and multiply image by itself.\n",
    "        O_n_squared_image = tf.keras.layers.Multiply()([y_true_density, y_true_density])\n",
    "        # Flatten result, to make it easier to sum over it.\n",
    "        O_n_squared_vector = tf.keras.layers.Flatten()(O_n_squared_image)\n",
    "        # Calculate sum over all terms.\n",
    "        O_n_squared_sum = tf.reduce_sum(O_n_squared_vector)\n",
    "\n",
    "        # Same for y_pred densitites:\n",
    "        # Multiply image by itself\n",
    "        M_n_squared_image = tf.keras.layers.Multiply()([y_pred_density, y_pred_density])\n",
    "        # Flatten result, to make it easier to sum over it.\n",
    "        M_n_squared_vector = tf.keras.layers.Flatten()(M_n_squared_image)\n",
    "        # Calculate sum over all terms.\n",
    "        M_n_squared_sum = tf.reduce_sum(M_n_squared_vector)\n",
    "    \n",
    "        MSE_n_ref = (O_n_squared_sum + M_n_squared_sum) / n_density_pixels\n",
    "        \n",
    "        # FSS score according to Eq. (6) of [RL08].\n",
    "        # FSS = 1 - (MSE_n / MSE_n_ref)\n",
    "\n",
    "        # FSS is a number between 0 and 1, with maximum of 1 (optimal value).\n",
    "        # In loss functions: We want to MAXIMIZE FSS (best value is 1), \n",
    "        # so return only the last term to minimize.\n",
    "\n",
    "        # Avoid division by zero if MSE_n_ref == 0\n",
    "        # MSE_n_ref = 0 only if both input images contain only zeros.\n",
    "        # In that case both images match exactly, i.e. we should return 0.\n",
    "        my_epsilon = tf.keras.backend.epsilon()  # this is 10^(-7)\n",
    "\n",
    "        if (want_hard_discretization):\n",
    "           if MSE_n_ref == 0:\n",
    "              return( MSE_n )\n",
    "           else:\n",
    "              return( MSE_n / MSE_n_ref )\n",
    "        else:\n",
    "           return (MSE_n / (MSE_n_ref + my_epsilon) )\n",
    "\n",
    "    return my_FSS_loss "
   ]
  },
  {
   "cell_type": "code",
   "execution_count": 28,
   "metadata": {},
   "outputs": [],
   "source": [
    "# # sample test if both datasets are same, FSS will give 1. IF ALL DIFFERENT, WILL BE SHOWN 0\n",
    "# # DISCRETIZATION SET TO TRUE. anything above 0.5mm/6h will be considered as having rainfall\n",
    "\n",
    "# # TESTING TOY SAMPLE\n",
    "# mask_size = 3\n",
    "# x =  np.array([0,0,0,0,0,0,0,0,0])\n",
    "# x = x.reshape(1,3,3,1)\n",
    "# x.shape\n",
    "\n",
    "# y = np.array([0,0,0,1,1,1,1,1,1]).reshape(1,3,3,1)\n",
    "# y.shape\n",
    "\n",
    "# FSS = tf.keras.backend.get_value(1 - make_FSS_loss(mask_size)(x, y))\n",
    "# FSS"
   ]
  },
  {
   "cell_type": "code",
   "execution_count": 29,
   "metadata": {},
   "outputs": [],
   "source": [
    "mask_size = 3 \n",
    "\n",
    "fss_lst = []\n",
    "for i in range(29219):\n",
    "    FSS = tf.keras.backend.get_value(1 - make_FSS_loss(mask_size)(wrf.RAINNC.isel(Time=i).values.reshape(1,96,132,1), downscaled_reanalysis.tp.isel(time=i).values.reshape(1,96,132,1)))\n",
    "    fss_lst.append(FSS)"
   ]
  },
  {
   "cell_type": "code",
   "execution_count": 30,
   "metadata": {},
   "outputs": [],
   "source": [
    "mask_size = 3 \n",
    " \n",
    "fss2_lst = []  # for reanalysis compare with reforecast\n",
    "for i in range(29219):\n",
    "    FSS = tf.keras.backend.get_value(1 - make_FSS_loss(mask_size)(reforecast_apcp_c00.tp.isel(time=i).values.reshape(1,8,11,1), reanalysis.tp.isel(time=i).values.reshape(1,8,11,1)))\n",
    "    fss2_lst.append(FSS)\n",
    "\n",
    "# fss2_lst"
   ]
  },
  {
   "cell_type": "code",
   "execution_count": 31,
   "metadata": {},
   "outputs": [],
   "source": [
    "# comparision of the original reanalysis and the downscaled reanalysis\n",
    "# fig, (ax1,ax2,ax3) = plt.subplots(1,3,figsize=(15,3)) # add this statement before your plot\n",
    "# # reanalysis.isel(time=0).tp.plot(x=\"xlon\", y=\"xlat\", ax=ax1)\n",
    "# time = 3\n",
    "# reanalysis.isel(time=time).tp.plot(ax=ax1)\n",
    "# downscaled_reanalysis.isel(time=time).tp.plot(x=\"xlon\", y=\"xlat\", ax=ax2)\n",
    "# wrf.isel(Time=time).RAINNC.plot(x=\"XLONG\", y=\"XLAT\", ax=ax3)\n",
    "# ax1.set_ylim(0.75, 2.5);\n",
    "# ax1.set_xlim(102.5, 105);\n",
    "# # left is reanalysis, right is downscaled reanalysis\n",
    "# fig.tight_layout;"
   ]
  },
  {
   "cell_type": "code",
   "execution_count": 32,
   "metadata": {},
   "outputs": [],
   "source": [
    "# plt.figure(figsize=(18,6))\n",
    "# plt.plot(fss_lst)\n",
    "# plt.title('FSS comparison between WRF and downscaled reanalysis');"
   ]
  },
  {
   "cell_type": "code",
   "execution_count": 33,
   "metadata": {},
   "outputs": [],
   "source": [
    "# plt.figure(figsize=(18,6))\n",
    "# plt.plot(fss2_lst)\n",
    "# plt.title('FSS comparison between reanalysis and reforecast_apcp_c00');"
   ]
  },
  {
   "cell_type": "code",
   "execution_count": 34,
   "metadata": {},
   "outputs": [
    {
     "data": {
      "text/plain": [
       "Text(0.5, 1.0, 'WRF vs Downscaled Reanalysis')"
      ]
     },
     "execution_count": 34,
     "metadata": {},
     "output_type": "execute_result"
    },
    {
     "data": {
      "image/png": "[encoded data removed]",
      "text/plain": [
       "<Figure size 640x480 with 1 Axes>"
      ]
     },
     "metadata": {},
     "output_type": "display_data"
    }
   ],
   "source": [
    "plt.hist(fss_lst)\n",
    "plt.title('WRF vs Downscaled Reanalysis')"
   ]
  },
  {
   "cell_type": "code",
   "execution_count": 35,
   "metadata": {},
   "outputs": [
    {
     "data": {
      "text/plain": [
       "Text(0.5, 1.0, 'GEFS reforecast vs GEFS reanalysis')"
      ]
     },
     "execution_count": 35,
     "metadata": {},
     "output_type": "execute_result"
    },
    {
     "data": {
      "image/png": "[encoded data removed]",
      "text/plain": [
       "<Figure size 640x480 with 1 Axes>"
      ]
     },
     "metadata": {},
     "output_type": "display_data"
    }
   ],
   "source": [
    "plt.hist(fss2_lst)\n",
    "plt.title('GEFS reforecast vs GEFS reanalysis')"
   ]
  },
  {
   "cell_type": "code",
   "execution_count": 50,
   "metadata": {},
   "outputs": [
    {
     "name": "stdout",
     "output_type": "stream",
     "text": [
      "0.030904548410280983\n",
      "0.7425647694992984\n"
     ]
    }
   ],
   "source": [
    "fss_more = [i for i in fss_lst if i >= 0.6]\n",
    "print(len(fss_more)/len(fss_lst))\n",
    "\n",
    "fss2_more = [i for i in fss2_lst if i >= 0.6]\n",
    "print(len(fss2_more)/len(fss2_lst))"
   ]
  },
  {
   "cell_type": "code",
   "execution_count": 51,
   "metadata": {},
   "outputs": [
    {
     "name": "stdout",
     "output_type": "stream",
     "text": [
      "0.06560799479790547\n",
      "0.7886649098189534\n"
     ]
    }
   ],
   "source": [
    "fss_more = [i for i in fss_lst if i >= 0.5]\n",
    "print(len(fss_more)/len(fss_lst))\n",
    "\n",
    "fss2_more = [i for i in fss2_lst if i >= 0.5]\n",
    "print(len(fss2_more)/len(fss2_lst))"
   ]
  },
  {
   "cell_type": "code",
   "execution_count": 36,
   "metadata": {},
   "outputs": [],
   "source": [
    "# downscaled_reanalysis.tp.plot()"
   ]
  },
  {
   "cell_type": "code",
   "execution_count": 37,
   "metadata": {},
   "outputs": [],
   "source": [
    "# scaler, downscaled_reanalysis = transform_train(downscaled_reanalysis, 'apcp') # is tp\n",
    "# scaler_wrf, wrf = transform_train(wrf, 'RAINNC') # is tp"
   ]
  },
  {
   "cell_type": "code",
   "execution_count": 38,
   "metadata": {},
   "outputs": [],
   "source": [
    "# np.quantile(downscaled_reanalysis.tp.values.reshape(-1), 0.4)"
   ]
  },
  {
   "cell_type": "code",
   "execution_count": 39,
   "metadata": {},
   "outputs": [],
   "source": [
    "# np.quantile(wrf.RAINNC.values.reshape(-1), 0.8) # 80% contains no rainfall??"
   ]
  },
  {
   "cell_type": "code",
   "execution_count": 40,
   "metadata": {},
   "outputs": [],
   "source": [
    "# downscaled_reanalysis.tp.plot()"
   ]
  },
  {
   "cell_type": "code",
   "execution_count": 41,
   "metadata": {},
   "outputs": [],
   "source": [
    "# wrf.RAINNC.plot()"
   ]
  },
  {
   "cell_type": "code",
   "execution_count": 42,
   "metadata": {},
   "outputs": [],
   "source": [
    "# make_FSS_loss(mask_size)()"
   ]
  }
 ],
 "metadata": {
  "kernelspec": {
   "display_name": "Python 3.10.4 ('research')",
   "language": "python",
   "name": "python3"
  },
  "language_info": {
   "codemirror_mode": {
    "name": "ipython",
    "version": 3
   },
   "file_extension": ".py",
   "mimetype": "text/x-python",
   "name": "python",
   "nbconvert_exporter": "python",
   "pygments_lexer": "ipython3",
   "version": "3.10.4"
  },
  "orig_nbformat": 4,
  "vscode": {
   "interpreter": {
    "hash": "287ad1a523a1a0c79ba273026018d677ef26436c7e0e825f5e9b183804324b70"
   }
  }
 },
 "nbformat": 4,
 "nbformat_minor": 2
}
