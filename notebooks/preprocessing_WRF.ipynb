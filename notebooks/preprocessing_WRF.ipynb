{
  "cells": [
    {
      "cell_type": "markdown",
      "metadata": {},
      "source": [
        "# Importing Libraries"
      ]
    },
    {
      "cell_type": "code",
      "execution_count": 1,
      "metadata": {
        "id": "Ej7j4WL8y_EX"
      },
      "outputs": [
        {
          "name": "stderr",
          "output_type": "stream",
          "text": [
            "c:\\Users\\bobby\\anaconda3\\envs\\research\\lib\\site-packages\\scipy\\__init__.py:146: UserWarning: A NumPy version >=1.16.5 and <1.23.0 is required for this version of SciPy (detected version 1.23.1\n",
            "  warnings.warn(f\"A NumPy version >={np_minversion} and <{np_maxversion}\"\n"
          ]
        }
      ],
      "source": [
        "import xarray as xr\n",
        "import pandas as pd\n",
        "import numpy as np\n",
        "import matplotlib.pyplot as plt\n",
        "import matplotlib as mpl\n",
        "import salem\n",
        "from sklearn.preprocessing import MinMaxScaler"
      ]
    },
    {
      "cell_type": "markdown",
      "metadata": {},
      "source": [
        "# combining raw files"
      ]
    },
    {
      "cell_type": "code",
      "execution_count": 2,
      "metadata": {},
      "outputs": [],
      "source": [
        "# # # reading files like a caveman\n",
        "# PATH = 'C:\\\\Users\\\\bobby\\\\Desktop\\\\.vscode\\\\1 UROP Research\\\\UROP v2\\\\raw_preprocessing\\\\WRF\\\\raw WRF\\\\'\n",
        "# wrf2000 = xr.open_dataset(PATH + 'raw_RAINNC.2000.nc')\n",
        "# wrf2001 = xr.open_dataset(PATH + 'raw_RAINNC.2001.nc')\n",
        "# wrf2002 = xr.open_dataset(PATH + 'raw_RAINNC.2002.nc')\n",
        "# wrf2003 = xr.open_dataset(PATH + 'raw_RAINNC.2003.nc')\n",
        "# wrf2004 = xr.open_dataset(PATH + 'raw_RAINNC.2004.nc')\n",
        "# wrf2005 = xr.open_dataset(PATH + 'raw_RAINNC.2005.nc')\n",
        "# wrf2006 = xr.open_dataset(PATH + 'raw_RAINNC.2006.nc')\n",
        "# wrf2007 = xr.open_dataset(PATH + 'raw_RAINNC.2007.nc')\n",
        "# wrf2008 = xr.open_dataset(PATH + 'raw_RAINNC.2008.nc')\n",
        "# wrf2009 = xr.open_dataset(PATH + 'raw_RAINNC.2009.nc')\n",
        "# wrf2010 = xr.open_dataset(PATH + 'raw_RAINNC.2010.nc')\n",
        "# wrf2011 = xr.open_dataset(PATH + 'raw_RAINNC.2011.nc')\n",
        "# wrf2012 = xr.open_dataset(PATH + 'raw_RAINNC.2012.nc')\n",
        "# wrf2013 = xr.open_dataset(PATH + 'raw_RAINNC.2013.nc')\n",
        "# wrf2014 = xr.open_dataset(PATH + 'raw_RAINNC.2014.nc')\n",
        "# wrf2015 = xr.open_dataset(PATH + 'raw_RAINNC.2015.nc')\n",
        "# wrf2016 = xr.open_dataset(PATH + 'raw_RAINNC.2016.nc')\n",
        "# wrf2017 = xr.open_dataset(PATH + 'raw_RAINNC.2017.nc')\n",
        "# wrf2018 = xr.open_dataset(PATH + 'raw_RAINNC.2018.nc')\n",
        "# wrf2019 = xr.open_dataset(PATH + 'raw_RAINNC.2019.nc')"
      ]
    },
    {
      "cell_type": "code",
      "execution_count": 3,
      "metadata": {},
      "outputs": [],
      "source": [
        "# wrf2000 = wrf2000.sel(Time=slice(None, None, 2)).diff(dim='Time').sel(Time=slice(4, None)) # 2000 use slice 4 for 2nd\n",
        "# wrf2001 = wrf2001.sel(Time=slice(None, None, 2)).diff(dim='Time').sel(Time=slice(3, None))\n",
        "# wrf2002 = wrf2002.sel(Time=slice(None, None, 2)).diff(dim='Time').sel(Time=slice(3, None))\n",
        "# wrf2003 = wrf2003.sel(Time=slice(None, None, 2)).diff(dim='Time').sel(Time=slice(3, None))\n",
        "# wrf2004 = wrf2004.sel(Time=slice(None, None, 2)).diff(dim='Time').sel(Time=slice(3, None))\n",
        "# wrf2005 = wrf2005.sel(Time=slice(None, None, 2)).diff(dim='Time').sel(Time=slice(3, None))\n",
        "# wrf2006 = wrf2006.sel(Time=slice(None, None, 2)).diff(dim='Time').sel(Time=slice(3, None))\n",
        "# wrf2007 = wrf2007.sel(Time=slice(None, None, 2)).diff(dim='Time').sel(Time=slice(3, None))\n",
        "# wrf2008 = wrf2008.sel(Time=slice(None, None, 2)).diff(dim='Time').sel(Time=slice(3, None))\n",
        "# wrf2009 = wrf2009.sel(Time=slice(1, None, 2)).diff(dim='Time').sel(Time=slice(2, None))   # 2009 file is only 03\n",
        "# wrf2010 = wrf2010.sel(Time=slice(None, None, 2)).diff(dim='Time').sel(Time=slice(3, None))\n",
        "# wrf2011 = wrf2011.sel(Time=slice(None, None, 2)).diff(dim='Time').sel(Time=slice(3, None))\n",
        "# wrf2012 = wrf2012.sel(Time=slice(None, None, 2)).diff(dim='Time').sel(Time=slice(3, None))\n",
        "# wrf2013 = wrf2013.sel(Time=slice(None, None, 2)).diff(dim='Time').sel(Time=slice(3, None))\n",
        "# wrf2014 = wrf2014.sel(Time=slice(None, None, 2)).diff(dim='Time').sel(Time=slice(3, None))\n",
        "# wrf2015 = wrf2015.sel(Time=slice(None, None, 2)).diff(dim='Time').sel(Time=slice(3, None))\n",
        "# wrf2016 = wrf2016.sel(Time=slice(None, None, 2)).diff(dim='Time').sel(Time=slice(3, None))\n",
        "# wrf2017 = wrf2017.sel(Time=slice(None, None, 2)).diff(dim='Time').sel(Time=slice(3, None))\n",
        "# wrf2018 = wrf2018.sel(Time=slice(None, None, 2)).diff(dim='Time').sel(Time=slice(3, None))\n",
        "# wrf2019 = wrf2019.sel(Time=slice(None, None, 2)).diff(dim='Time').sel(Time=slice(3, None))"
      ]
    },
    {
      "cell_type": "code",
      "execution_count": 4,
      "metadata": {},
      "outputs": [],
      "source": [
        "# wrf2000.to_netcdf(PATH+'RAINNC.2000.nc')\n",
        "# wrf2001.to_netcdf(PATH+'RAINNC.2001.nc')\n",
        "# wrf2002.to_netcdf(PATH+'RAINNC.2002.nc')\n",
        "# wrf2003.to_netcdf(PATH+'RAINNC.2003.nc')\n",
        "# wrf2004.to_netcdf(PATH+'RAINNC.2004.nc')\n",
        "# wrf2005.to_netcdf(PATH+'RAINNC.2005.nc')\n",
        "# wrf2006.to_netcdf(PATH+'RAINNC.2006.nc')\n",
        "# wrf2007.to_netcdf(PATH+'RAINNC.2007.nc')\n",
        "# wrf2008.to_netcdf(PATH+'RAINNC.2008.nc')\n",
        "# wrf2009.to_netcdf(PATH+'RAINNC.2009.nc')\n",
        "# wrf2010.to_netcdf(PATH+'RAINNC.2010.nc')\n",
        "# wrf2011.to_netcdf(PATH+'RAINNC.2011.nc')\n",
        "# wrf2012.to_netcdf(PATH+'RAINNC.2012.nc')\n",
        "# wrf2013.to_netcdf(PATH+'RAINNC.2013.nc')\n",
        "# wrf2014.to_netcdf(PATH+'RAINNC.2014.nc')\n",
        "# wrf2015.to_netcdf(PATH+'RAINNC.2015.nc')\n",
        "# wrf2016.to_netcdf(PATH+'RAINNC.2016.nc')\n",
        "# wrf2017.to_netcdf(PATH+'RAINNC.2017.nc')\n",
        "# wrf2018.to_netcdf(PATH+'RAINNC.2018.nc')\n",
        "# wrf2019.to_netcdf(PATH+'RAINNC.2019.nc')"
      ]
    },
    {
      "cell_type": "code",
      "execution_count": 5,
      "metadata": {},
      "outputs": [],
      "source": [
        "# wrfmerged = xr.open_mfdataset(PATH + 'RAINNC.*.nc',concat_dim='Time',combine='nested')"
      ]
    },
    {
      "cell_type": "code",
      "execution_count": 6,
      "metadata": {},
      "outputs": [],
      "source": [
        "# pathwrf = 'C:\\\\Users\\\\bobby\\\\Desktop\\\\.vscode\\\\1 UROP Research\\\\UROP v2\\\\raw_preprocessing\\\\WRF\\\\'\n",
        "# wrfmerged.to_netcdf(pathwrf+'d02WRF_tp_2000_2019.nc')"
      ]
    },
    {
      "cell_type": "markdown",
      "metadata": {},
      "source": [
        "# preprocessing of WRF"
      ]
    },
    {
      "cell_type": "code",
      "execution_count": 7,
      "metadata": {},
      "outputs": [],
      "source": [
        "pathwrf = 'C:\\\\Users\\\\bobby\\\\Desktop\\\\.vscode\\\\1 UROP Research\\\\UROP v2\\\\raw_preprocessing\\\\WRF\\\\'\n",
        "dswrf = xr.open_dataset(pathwrf + 'd02WRF_tp_2000_2019.nc')\n",
        "dswrf = dswrf.isel(south_north=slice(10,106), west_east=slice(18,150))\n",
        "\n",
        "# '2000-01-01T06', '2014-01-01T06'\n",
        "wrf_train = dswrf.sel(Time=slice(0, 20457))\n",
        "# '2014-01-01T12', '2016-12-31T12'\n",
        "wrf_val = dswrf.sel(Time=slice(20457, 24838))\n",
        "# '2016-12-31T18', '2019-12-31T18'\n",
        "wrf_test = dswrf.sel(Time=slice(24838, None))"
      ]
    },
    {
      "cell_type": "code",
      "execution_count": 8,
      "metadata": {},
      "outputs": [],
      "source": [
        "# wrf_train.RAINNC.sel(Time=0).plot(x='XLONG', y='XLAT') # plotting each timestep\n",
        "\n",
        "# log transform and min_max normalization for WRF TRAINING DATASET\n",
        "scaler_train_wrf = MinMaxScaler()\n",
        "y2_one_col = wrf_train.RAINNC.values.reshape([wrf_train.RAINNC.values.shape[0]*wrf_train.RAINNC.values.shape[1]*wrf_train.RAINNC.values.shape[2], 1])\n",
        "y2_one_col = np.log10(y2_one_col+1) # 10**y2_one_col - 1 to scale back\n",
        "y2_one_col_res = scaler_train_wrf.fit_transform(y2_one_col) # scaler_train_wrf.inverse_transform(y2_one_col_res) to scale back, or use 10**scaler_train_wrf.inverse_transform(y2_one_col_res) -1 only\n",
        "wrf_train.RAINNC.values = y2_one_col_res.reshape(wrf_train.RAINNC.values.shape)"
      ]
    },
    {
      "cell_type": "code",
      "execution_count": 9,
      "metadata": {},
      "outputs": [],
      "source": [
        "def transform_val_test(val_test, scaler_train, is_prec=True):\n",
        "    '''\n",
        "    Input (example): wrf_val.RAINNC, scaler_train_wrf, True/False\n",
        "    Output: Transformed validation/test XR data\n",
        "    If is_prec set to True, variable is precipitation\n",
        "    '''\n",
        "    if is_prec == True:\n",
        "        X_one_col = val_test.values.reshape([val_test.values.shape[0]*val_test.values.shape[1]*val_test.values.shape[2], 1])\n",
        "        X_one_col = np.log10(X_one_col+1) \n",
        "        X_one_col_res = scaler_train.transform(X_one_col) \n",
        "        val_test.values = X_one_col_res.reshape(val_test.values.shape)\n",
        "        return val_test.values\n",
        "        \n",
        "    else:\n",
        "        X_one_col = val_test.values.reshape([val_test.values.shape[0]*val_test.values.shape[1]*val_test.values.shape[2], 1])\n",
        "        # X_one_col = np.log10(X_one_col+1) \n",
        "        X_one_col_res = scaler_train.transform(X_one_col) \n",
        "        val_test.values = X_one_col_res.reshape(val_test.values.shape)\n",
        "        return val_test.values\n",
        "\n",
        "# reforecast\n",
        "wrf_val.RAINNC.values = transform_val_test(wrf_val.RAINNC, scaler_train_wrf, True) # transforming val based on train\n",
        "wrf_test.RAINNC.values = transform_val_test(wrf_test.RAINNC, scaler_train_wrf, True) # transforming val based on train"
      ]
    },
    {
      "cell_type": "code",
      "execution_count": 10,
      "metadata": {},
      "outputs": [
        {
          "name": "stdout",
          "output_type": "stream",
          "text": [
            "(20457, 96, 132, 1)\n",
            "(4381, 96, 132, 1)\n",
            "(4381, 96, 132, 1)\n"
          ]
        }
      ],
      "source": [
        "# training\n",
        "wrf_train = wrf_train.RAINNC.values\n",
        "wrf_train = wrf_train[..., np.newaxis]\n",
        "print(wrf_train.shape)\n",
        "np.save('C:\\\\Users\\\\bobby\\\\Desktop\\\\.vscode\\\\1 UROP Research\\\\UROP v2\\\\data\\\\wrf_train.npy', wrf_train)\n",
        "\n",
        "# val\n",
        "wrf_val = wrf_val.RAINNC.values\n",
        "wrf_val = wrf_val[..., np.newaxis]\n",
        "print(wrf_val.shape)\n",
        "np.save('C:\\\\Users\\\\bobby\\\\Desktop\\\\.vscode\\\\1 UROP Research\\\\UROP v2\\\\data\\\\wrf_val.npy', wrf_val)\n",
        "\n",
        "# testing\n",
        "wrf_test = wrf_test.RAINNC.values\n",
        "wrf_test = wrf_test[..., np.newaxis]\n",
        "print(wrf_test.shape)\n",
        "np.save('C:\\\\Users\\\\bobby\\\\Desktop\\\\.vscode\\\\1 UROP Research\\\\UROP v2\\\\data\\\\wrf_test.npy', wrf_test)"
      ]
    }
  ],
  "metadata": {
    "colab": {
      "collapsed_sections": [],
      "provenance": []
    },
    "kernelspec": {
      "display_name": "Python 3.10.1 ('research')",
      "language": "python",
      "name": "python3"
    },
    "language_info": {
      "codemirror_mode": {
        "name": "ipython",
        "version": 3
      },
      "file_extension": ".py",
      "mimetype": "text/x-python",
      "name": "python",
      "nbconvert_exporter": "python",
      "pygments_lexer": "ipython3",
      "version": "3.10.4"
    },
    "vscode": {
      "interpreter": {
        "hash": "287ad1a523a1a0c79ba273026018d677ef26436c7e0e825f5e9b183804324b70"
      }
    }
  },
  "nbformat": 4,
  "nbformat_minor": 0
}
